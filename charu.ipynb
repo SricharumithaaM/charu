{
  "nbformat": 4,
  "nbformat_minor": 0,
  "metadata": {
    "colab": {
      "name": "charu.ipynb",
      "provenance": []
    },
    "kernelspec": {
      "name": "python3",
      "display_name": "Python 3"
    },
    "language_info": {
      "name": "python"
    }
  },
  "cells": [
    {
      "cell_type": "code",
      "metadata": {
        "colab": {
          "base_uri": "https://localhost:8080/"
        },
        "id": "ipHgeJzXPowR",
        "outputId": "1996f2f4-0a73-4929-c5f4-f3a4a5bfc883"
      },
      "source": [
        "import requests\n",
        "from datetime import datetime\n",
        "api_key ='572d7e0c2c1223bb62ebf7cbe3664edd'\n",
        "location = input(\"Enter the city name:\")\n",
        "Complete_api_link =\"https://api.openweathermap.org/data/2.5/weather?q=\"+location+\"&appid=\"+api_key\n",
        "api_link = requests.get(Complete_api_link)\n",
        "api_data  = api_link.json()\n",
        "temp_city=((api_data['main']['temp'])-273.15)\n",
        "weather_desc = api_data['weather'][0]['description']\n",
        "hmdt = api_data['main']['humidity']\n",
        "wind_spd = api_data['wind']['speed']\n",
        "date_time = datetime.now().strftime(\"%d %b %Y|%I:%M:%S %P\")\n",
        "print(\"-----------------------------------------\")\n",
        "print(\"weather stats for - {} || {}\".format(location.upper(), date_time))\n",
        "print(\"--------------------------------------------\")\n",
        "print (\"Current temperature is: {:.2f}deg C\".format(temp_city))\n",
        "print (\"Current weather desc :\",weather_desc)\n",
        "print (\"Current Humidity :\", hmdt, '%')\n",
        "print (\"Current wind speed:\", wind_spd, 'kmph')\n"
      ],
      "execution_count": 1,
      "outputs": [
        {
          "output_type": "stream",
          "text": [
            "Enter the city name:salem\n",
            "-----------------------------------------\n",
            "weather stats for - SALEM || 22 Jun 2021|03:04:17 pm\n",
            "--------------------------------------------\n",
            "Current temperature is: 30.50deg C\n",
            "Current weather desc : moderate rain\n",
            "Current Humidity : 48 %\n",
            "Current wind speed: 3.1 kmph\n"
          ],
          "name": "stdout"
        }
      ]
    }
  ]
}